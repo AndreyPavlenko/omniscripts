{
 "cells": [
  {
   "cell_type": "markdown",
   "source": [
    "# NYC Taxi benchmark\n",
    "## Workflow consists from 4 queries to NYC taxi dataset\n",
    "\n",
    "### The goal is to measure the total execution time: [Workflow execution cell](#execution_cell)\n",
    "\n",
    "### Datasets links:\n",
    "### 1) Dataset for measuring time: `https://modin-datasets.s3.amazonaws.com/trips_xaa.csv.gz`\n",
    "### 2) Smaller dataset for quick workflow testing: `https://modin-datasets.s3.amazonaws.com/trips_data.csv.gz`"
   ],
   "metadata": {}
  },
  {
   "cell_type": "code",
   "execution_count": 1,
   "source": [
    "import logging\n",
    "from flytekit.loggers import logger"
   ],
   "outputs": [
    {
     "output_type": "execute_result",
     "data": {
      "text/plain": [
       "<bound method Logger.warning of <Logger flytekit (DEBUG)>>"
      ]
     },
     "metadata": {},
     "execution_count": 1
    }
   ],
   "metadata": {}
  },
  {
   "cell_type": "code",
   "execution_count": null,
   "source": [
    "logger.setLevel(level=logging.WARN)\n",
    "logger.getEffectiveLevel"
   ],
   "outputs": [],
   "metadata": {}
  },
  {
   "cell_type": "code",
   "execution_count": 2,
   "source": [
    "import pandas as pd\n",
    "import typing\n",
    "from flytekit import Resources, task, workflow, ExecutionParameters, FlyteContextManager, FlyteContext\n",
    "from flytekit.types.file import FlyteFile\n",
    "import flytekit\n",
    "from flytekit.core.context_manager import ExecutionState\n",
    "from flytekit.core.data_persistence import FileAccessProvider"
   ],
   "outputs": [],
   "metadata": {}
  },
  {
   "cell_type": "code",
   "execution_count": 3,
   "source": [
    "N_RUNS = 5\n",
    "cols = [\"trip_id\",\n",
    "        \"vendor_id\",\n",
    "        \"pickup_datetime\",\n",
    "        \"dropoff_datetime\",\n",
    "        \"store_and_fwd_flag\",\n",
    "        \"rate_code_id\",\n",
    "        \"pickup_longitude\",\n",
    "        \"pickup_latitude\",\n",
    "        \"dropoff_longitude\",\n",
    "        \"dropoff_latitude\",\n",
    "        \"passenger_count\",\n",
    "        \"trip_distance\",\n",
    "        \"fare_amount\",\n",
    "        \"extra\",\n",
    "        \"mta_tax\",\n",
    "        \"tip_amount\",\n",
    "        \"tolls_amount\",\n",
    "        \"ehail_fee\",\n",
    "        \"improvement_surcharge\",\n",
    "        \"total_amount\",\n",
    "        \"payment_type\",\n",
    "        \"trip_type\",\n",
    "        \"pickup\",\n",
    "        \"dropoff\",\n",
    "        \"cab_type\",\n",
    "        \"precipitation\",\n",
    "        \"snow_depth\",\n",
    "        \"snowfall\",\n",
    "        \"max_temperature\",\n",
    "        \"min_temperature\",\n",
    "        \"average_wind_speed\",\n",
    "        \"pickup_nyct2010_gid\",\n",
    "        \"pickup_ctlabel\",\n",
    "        \"pickup_borocode\",\n",
    "        \"pickup_boroname\",\n",
    "        \"pickup_ct2010\",\n",
    "        \"pickup_boroct2010\",\n",
    "        \"pickup_cdeligibil\",\n",
    "        \"pickup_ntacode\",\n",
    "        \"pickup_ntaname\",\n",
    "        \"pickup_puma\",\n",
    "        \"dropoff_nyct2010_gid\",\n",
    "        \"dropoff_ctlabel\",\n",
    "        \"dropoff_borocode\",\n",
    "        \"dropoff_boroname\",\n",
    "        \"dropoff_ct2010\",\n",
    "        \"dropoff_boroct2010\",\n",
    "        \"dropoff_cdeligibil\",\n",
    "        \"dropoff_ntacode\",\n",
    "        \"dropoff_ntaname\",\n",
    "        \"dropoff_puma\"]\n",
    "\n",
    "parse_dates=[\"pickup_datetime\", \"dropoff_datetime\"]"
   ],
   "outputs": [],
   "metadata": {}
  },
  {
   "cell_type": "code",
   "execution_count": 5,
   "source": [
    "@task\n",
    "def get_taxi_dataset_task(\n",
    "    data: FlyteFile[typing.TypeVar(\"csv\")],\n",
    "    compression: str,\n",
    "    names: typing.List[str],\n",
    "    parse_dates: typing.List[str]\n",
    ") -> typing.NamedTuple(\"OutputsBC\", get_taxi_output=pd.DataFrame):\n",
    "    return pd.read_csv(data, compression=compression, names=cols, parse_dates=parse_dates)"
   ],
   "outputs": [],
   "metadata": {}
  },
  {
   "cell_type": "code",
   "execution_count": 6,
   "source": [
    "@task\n",
    "def taxi_q1_task(\n",
    "    df: pd.DataFrame\n",
    ") -> pd.DataFrame:\n",
    "    return pd.DataFrame(df.groupby([\"cab_type\"]).count()[\"trip_id\"])"
   ],
   "outputs": [],
   "metadata": {}
  },
  {
   "cell_type": "code",
   "execution_count": 7,
   "source": [
    "@task\n",
    "def taxi_q2_task(\n",
    "    df: pd.DataFrame\n",
    ") -> pd.DataFrame:\n",
    "    return df.groupby(\"passenger_count\", as_index=False).mean()[[\"passenger_count\", \"total_amount\"]]"
   ],
   "outputs": [],
   "metadata": {}
  },
  {
   "cell_type": "code",
   "execution_count": 8,
   "source": [
    "@task\n",
    "def taxi_q3_task(\n",
    "    df: pd.DataFrame\n",
    ") -> pd.DataFrame:\n",
    "    res = df.groupby([\"passenger_count\", \"pickup_datetime\"]).size().reset_index()\n",
    "    res.columns = res.columns.astype(str)\n",
    "    return res"
   ],
   "outputs": [],
   "metadata": {}
  },
  {
   "cell_type": "code",
   "execution_count": 9,
   "source": [
    "@task\n",
    "def taxi_q4_task(\n",
    "    df: pd.DataFrame\n",
    ") -> pd.DataFrame:\n",
    "    transformed = pd.DataFrame({\n",
    "        \"passenger_count\": df[\"passenger_count\"],\n",
    "        \"pickup_datetime\": df[\"pickup_datetime\"].dt.year,\n",
    "        \"trip_distance\": df[\"trip_distance\"].astype(\"int64\"),\n",
    "    })\n",
    "    transformed = transformed.groupby([\"passenger_count\", \"pickup_datetime\", \"trip_distance\"])  \\\n",
    "            .size().reset_index().sort_values(by=[\"pickup_datetime\", 0], ascending=[True, False])\n",
    "    transformed.columns = transformed.columns.astype(str)\n",
    "    return transformed"
   ],
   "outputs": [],
   "metadata": {}
  },
  {
   "cell_type": "code",
   "execution_count": 12,
   "source": [
    "@workflow\n",
    "def taxi_wf(\n",
    "    dataset: FlyteFile[\"csv\"] = \"https://modin-datasets.s3.amazonaws.com/taxi/trips_xaa.csv.gz\",\n",
    "    compression: str = 'gzip'\n",
    ") -> (\n",
    "    pd.DataFrame,\n",
    "    pd.DataFrame,\n",
    "    pd.DataFrame,\n",
    "    pd.DataFrame\n",
    "):\n",
    "    df = get_taxi_dataset_task(data=dataset, compression=compression, names=cols, parse_dates=parse_dates)[0]\n",
    "    res_1 = taxi_q1_task(df=df)\n",
    "    res_2 = taxi_q2_task(df=df)\n",
    "    res_3 = taxi_q3_task(df=df)\n",
    "    res_4 = taxi_q4_task(df=df)\n",
    "    return res_1, res_2, res_3, res_4"
   ],
   "outputs": [],
   "metadata": {}
  },
  {
   "cell_type": "markdown",
   "source": [
    "## <a id='execution_cell'>Workflow execution</a>"
   ],
   "metadata": {}
  },
  {
   "cell_type": "code",
   "execution_count": 13,
   "source": [
    "%%time\n",
    "\n",
    "taxi_wf()"
   ],
   "outputs": [
    {
     "output_type": "stream",
     "name": "stdout",
     "text": [
      "CPU times: user 6min 9s, sys: 3min 15s, total: 9min 24s\n",
      "Wall time: 7min 46s\n"
     ]
    },
    {
     "output_type": "execute_result",
     "data": {
      "text/plain": [
       "DefaultNamedTupleOutput(o0=           trip_id\n",
       "cab_type          \n",
       "green     20000000, o1=   passenger_count  total_amount\n",
       "0                0      9.841277\n",
       "1                1     14.417759\n",
       "2                2     15.336595\n",
       "3                3     15.534873\n",
       "4                4     15.496616\n",
       "5                5     14.466787\n",
       "6                6     15.234298\n",
       "7                7     20.582484\n",
       "8                8     16.502798\n",
       "9                9     30.553729, o2=          passenger_count     pickup_datetime  0\n",
       "0                       0 2013-08-14 12:07:00  1\n",
       "1                       0 2013-08-14 12:37:00  1\n",
       "2                       0 2013-08-15 00:00:00  1\n",
       "3                       0 2013-09-17 13:30:00  1\n",
       "4                       0 2013-09-25 17:32:46  1\n",
       "...                   ...                 ... ..\n",
       "16319462                9 2015-02-16 13:12:45  1\n",
       "16319463                9 2015-02-20 02:41:14  1\n",
       "16319464                9 2015-02-20 14:23:40  1\n",
       "16319465                9 2015-02-23 12:28:49  1\n",
       "16319466                9 2015-02-28 00:44:13  1\n",
       "\n",
       "[16319467 rows x 3 columns], o3=      passenger_count  pickup_datetime  trip_distance       0\n",
       "89                  1             2013              1  274599\n",
       "88                  1             2013              0  210759\n",
       "90                  1             2013              2  152696\n",
       "91                  1             2013              3   96007\n",
       "92                  1             2013              4   62700\n",
       "...               ...              ...            ...     ...\n",
       "1195                8             2015              3       1\n",
       "1197                8             2015              6       1\n",
       "1198                8             2015             18       1\n",
       "1215                9             2015              2       1\n",
       "1216                9             2015             25       1\n",
       "\n",
       "[1217 rows x 4 columns])"
      ]
     },
     "metadata": {},
     "execution_count": 13
    }
   ],
   "metadata": {}
  }
 ],
 "metadata": {
  "orig_nbformat": 4,
  "language_info": {
   "name": "python",
   "version": "3.8.5",
   "mimetype": "text/x-python",
   "codemirror_mode": {
    "name": "ipython",
    "version": 3
   },
   "pygments_lexer": "ipython3",
   "nbconvert_exporter": "python",
   "file_extension": ".py"
  },
  "kernelspec": {
   "name": "python3",
   "display_name": "Python 3.8.5 64-bit"
  },
  "interpreter": {
   "hash": "916dbcbb3f70747c44a77c7bcd40155683ae19c65e1c03b4aa3499c5328201f1"
  }
 },
 "nbformat": 4,
 "nbformat_minor": 2
}